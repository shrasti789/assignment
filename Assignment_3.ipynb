{
 "cells": [
  {
   "cell_type": "code",
   "execution_count": 1,
   "metadata": {},
   "outputs": [
    {
     "data": {
      "text/plain": [
       "15"
      ]
     },
     "execution_count": 1,
     "metadata": {},
     "output_type": "execute_result"
    }
   ],
   "source": [
    "##ans1.\n",
    "def myreduce(func, iterable, start=None):\n",
    "    i = iter(iterable)\n",
    "    if start is None:\n",
    "        value_1=next(i)\n",
    "    else:\n",
    "        value_1 = start\n",
    "    for x in i:\n",
    "        value_1 = func(value_1, x)\n",
    "    return value_1\n",
    "\n",
    "def sum(j,k):\n",
    "    res=j+k\n",
    "    return res\n",
    "seq=[1,2,3,4,5]\n",
    "myreduce(sum,seq)"
   ]
  },
  {
   "cell_type": "code",
   "execution_count": 2,
   "metadata": {},
   "outputs": [
    {
     "name": "stdout",
     "output_type": "stream",
     "text": [
      "[2, 4, 6]\n"
     ]
    }
   ],
   "source": [
    "##ans2.\n",
    "def filter_fun(func,seq):\n",
    "    l=[]\n",
    "    for var in seq:\n",
    "        if func(var):\n",
    "            l.append(var)\n",
    "    return l\n",
    "def is_even(i):\n",
    "    if i%2==0:\n",
    "        return True\n",
    "    else:\n",
    "        return False\n",
    "seq=[1,2,3,4,5,6]\n",
    "print(filter_fun(is_even,seq))\n",
    "\n",
    "            \n"
   ]
  },
  {
   "cell_type": "code",
   "execution_count": 9,
   "metadata": {},
   "outputs": [
    {
     "name": "stdout",
     "output_type": "stream",
     "text": [
      "['x', 'xx', 'xxx', 'xxxx', 'y', 'yy', 'yyy', 'yyyy', 'z', 'zz', 'zzz', 'zzzz']\n",
      "['x', 'y', 'z', 'xx', 'yy', 'zz', 'xxx', 'yyy', 'zzz', 'xxxx', 'yyyy', 'zzzz']\n",
      "[[2], [3], [4], [3], [4], [5], [4], [5], [6]]\n",
      "[2, 3, 4, 5, 3, 4, 5, 6, 4, 5, 6, 7, 5, 6, 7, 8]\n",
      "[(1, 1), (2, 1), (2, 2), (3, 1), (3, 3), (4, 1), (4, 2), (4, 4)]\n"
     ]
    }
   ],
   "source": [
    "##ans3.\n",
    "l=list('xyz')\n",
    "p=[]\n",
    "for i in range(3):\n",
    "    for j in range(1,5):\n",
    "        p.append(l[i]*j)\n",
    "print(p)\n",
    "\n",
    "l=list('xyz')\n",
    "p=[]\n",
    "for i in range(3):\n",
    "    p.append(l[i])\n",
    "for j in range(2,5):\n",
    "    for k in range(3):\n",
    "        p.append(p[k]*j)\n",
    "print(p)   \n",
    "\n",
    "l=[[x+y] for x in range(2,5) for y in range(3)]\n",
    "print(l)\n",
    "\n",
    "l=[]\n",
    "for x in range(2,6):\n",
    "    #l.append(x)\n",
    "    for y in range(4):\n",
    "        l.append(x+y)\n",
    "print(l)\n",
    "\n",
    "a=[(x,y) for x in range(1,5) for y in range(1,5)if x%y==0]\n",
    "print(a)\n",
    "        "
   ]
  },
  {
   "cell_type": "code",
   "execution_count": null,
   "metadata": {},
   "outputs": [],
   "source": []
  },
  {
   "cell_type": "code",
   "execution_count": null,
   "metadata": {},
   "outputs": [],
   "source": []
  }
 ],
 "metadata": {
  "kernelspec": {
   "display_name": "Python 3",
   "language": "python",
   "name": "python3"
  },
  "language_info": {
   "codemirror_mode": {
    "name": "ipython",
    "version": 3
   },
   "file_extension": ".py",
   "mimetype": "text/x-python",
   "name": "python",
   "nbconvert_exporter": "python",
   "pygments_lexer": "ipython3",
   "version": "3.8.3"
  }
 },
 "nbformat": 4,
 "nbformat_minor": 4
}
